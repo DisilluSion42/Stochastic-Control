{
 "cells": [
  {
   "cell_type": "markdown",
   "id": "08d39520",
   "metadata": {},
   "source": [
    "After an overhaul, a water pump reliably operates for a random time $t$ before a failure occurs. The probability density function (PDF) for the failure time t is given by\n",
    "$$\n",
    "f(t) = \\left\\{\n",
    "    \\begin{array}\\\\\n",
    "        \\frac{2t}{t^2}exp(-\\frac{t^2}{\\lambda^2}) & \\mbox{if } \\ t\\geq0 \\\\\n",
    "        0 & \\mbox{else}\n",
    "    \\end{array}\n",
    "\\right.\n",
    "$$\n",
    "where $\\lambda$ is a parameter, with specifically $\\lambda=1000$ days.  \n",
    "\n",
    "We’re going to analyze the average cost associated with diﬀerent preventative maintenance policies. Doing preventative maintenance costs ${c_m}={$}50$, while repairing a pump that has failed costs ${c_r}={$}250$. We schedule preventative maintenance at time ${t_m}$. We amortize the operating cost of the pump over its lifetime and deﬁne the running cost ${R}$ of the pump as the cost (repair or maintenance) divided by the running time. If the pump fails prematurely (that is, if $t\\leq{t_m}$) we have ${R}={c_r}/t$ ; otherwise we do preventative maintenance and the running cost is ${R}={c_m}/{t_m}$. \n",
    "\n",
    "We will write a program that generates samples of t from its distribution. Evaluate the average running cost $R$ for each of ${t_m}\\in \\{ 1, 10, {10^2},  {10^3}, {10^4}\\}$ days. In each case, generate ${10^6}$ samples. "
   ]
  },
  {
   "cell_type": "code",
   "execution_count": 2,
   "id": "0eee7720",
   "metadata": {},
   "outputs": [
    {
     "name": "stdout",
     "output_type": "stream",
     "text": [
      "When scheduling preventative maintenance at 1, the estimated average cost is 50.0002\n",
      "When scheduling preventative maintenance at 10, the estimated average cost is 5.0043\n",
      "When scheduling preventative maintenance at 100, the estimated average cost is 0.5447\n",
      "When scheduling preventative maintenance at 1000, the estimated average cost is 0.3924\n",
      "When scheduling preventative maintenance at 10000, the estimated average cost is 0.4437\n"
     ]
    }
   ],
   "source": [
    "import numpy as np\n",
    "import sympy as sy\n",
    "import matplotlib.pyplot as plt\n",
    "from sympy import *\n",
    "\n",
    "# Define the problem\n",
    "t = sy.Symbol('t', negative=False)\n",
    "tm = [1, 10, 100, 1000, 10000]\n",
    "cm = 50\n",
    "cr = 250\n",
    "Lambda = 1000\n",
    "\n",
    "f = (2*t/(Lambda**2)) * exp(-(t**2)/(Lambda**2)) # PDF\n",
    "F = sy.integrate(f, t) + 1 # CDF\n",
    "\n",
    "# Uniform distribution samples\n",
    "np.random.seed(2)\n",
    "u = np.random.uniform(0,1,1000000)\n",
    "\n",
    "# Solve F(t)=u to draw samples of t\n",
    "y = sy.Symbol('y')\n",
    "F_inv = sy.lambdify(y, Lambda*sqrt(log(1/(1-y))))\n",
    "t_samp = F_inv(u)\n",
    "\n",
    "# Define running cost \n",
    "def rn_cst(t0, tm): \n",
    "    return (t0<=tm)*(cr/t0) + (t0>tm)*(cm/tm)\n",
    "\n",
    "#Evaluate the average running cost in each case of tm\n",
    "for i in range(len(tm)): \n",
    "    R = np.mean(rn_cst(t_samp, tm[i]))\n",
    "    print('When scheduling preventative maintenance at {}, the estimated average cost is {:.4f}'.format(tm[i], R))\n"
   ]
  }
 ],
 "metadata": {
  "kernelspec": {
   "display_name": "Python 3 (ipykernel)",
   "language": "python",
   "name": "python3"
  },
  "language_info": {
   "codemirror_mode": {
    "name": "ipython",
    "version": 3
   },
   "file_extension": ".py",
   "mimetype": "text/x-python",
   "name": "python",
   "nbconvert_exporter": "python",
   "pygments_lexer": "ipython3",
   "version": "3.9.10"
  }
 },
 "nbformat": 4,
 "nbformat_minor": 5
}
