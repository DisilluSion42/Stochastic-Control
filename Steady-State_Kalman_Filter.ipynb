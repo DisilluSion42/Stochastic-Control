{
 "cells": [
  {
   "cell_type": "markdown",
   "id": "a247a805",
   "metadata": {},
   "source": [
    "We consider the following system:\n",
    "\n",
    "$$\n",
    "x(k)=Ax(k-1)+v(k-1),\\quad z(k)=Hx(k)+w(k) \\\\\n",
    "A=1.2,\\quad H=1,\\quad v(k)\\sim\\mathcal{N}(0,2),\\quad w(k)\\sim\\mathcal{N}(0,1),\\quad x(0)\\sim\\mathcal{N}(0,3)\n",
    "$$\n",
    "\n",
    "and $x(0),\\{v(\\cdot)\\},\\{w(\\cdot)\\}$ are independent. We will compare the estimation error when estimating the system\n",
    "state with the (time varying) Kalman ﬁlter, and the steady-state Kalman ﬁlter.   \n",
    "\n",
    "Firstly we use the the standard Kalman ﬁlter, and get the variances of the posterior estimation errors at $k\\in\\{1,2,10,1000\\}$."
   ]
  },
  {
   "cell_type": "code",
   "execution_count": 1,
   "id": "18be6574",
   "metadata": {},
   "outputs": [
    {
     "name": "stdout",
     "output_type": "stream",
     "text": [
      "At time k=1, the variance of posterior estimation error is: 0.8634. \n",
      "At time k=2, the variance of posterior estimation error is: 0.7643. \n",
      "At time k=10, the variance of posterior estimation error is: 0.7554. \n",
      "At time k=1000, the variance of posterior estimation error is: 0.7554. \n"
     ]
    }
   ],
   "source": [
    "import numpy as np\n",
    "\n",
    "A = 1.2\n",
    "H = 1\n",
    "Sigma_vv = 2\n",
    "Sigma_ww = 1\n",
    "x0 = 0\n",
    "P0 = 3\n",
    "\n",
    "K = 1000\n",
    "Pm = np.empty(K + 1)\n",
    "\n",
    "Pm[0] = P0\n",
    "\n",
    "for k in range(K): \n",
    "    Pp = A * Pm[k] * A + Sigma_vv\n",
    "    Pm[k + 1] = Pp- Pp * H / (H * Pp * H + Sigma_ww) * H * Pp\n",
    "    \n",
    "for i in [1, 2, 10, 1000]:\n",
    "    print('At time k=%d, the variance of posterior estimation error is: %.4f. '%(i, Pm[i]))"
   ]
  },
  {
   "cell_type": "markdown",
   "id": "6e781449",
   "metadata": {},
   "source": [
    "Now we use the steady-state Kalman ﬁlter to estimate the state, and see how the variances of posterior estimation errors at $k\\in\\{1,2,10,1000\\}$ differ from the previous ones. "
   ]
  },
  {
   "cell_type": "code",
   "execution_count": 3,
   "id": "fed7d873",
   "metadata": {},
   "outputs": [
    {
     "name": "stdout",
     "output_type": "stream",
     "text": [
      "At time k=1, the steady-state variance of posterior estimation error is: 0.9488. \n",
      "At time k=2, the steady-state variance of posterior estimation error is: 0.7720. \n",
      "At time k=10, the steady-state variance of posterior estimation error is: 0.7554. \n",
      "At time k=1000, the steady-state variance of posterior estimation error is: 0.7554. \n"
     ]
    }
   ],
   "source": [
    "import numpy as np\n",
    "from scipy import linalg\n",
    "\n",
    "A = 1.2\n",
    "H = 1\n",
    "Sigma_vv = 2\n",
    "Sigma_ww = 1\n",
    "x0 = 0\n",
    "P0 = 3\n",
    "\n",
    "P_inf = linalg.solve_discrete_are(A, H, Sigma_vv, Sigma_ww)\n",
    "K_inf = P_inf * H / (H * P_inf * H + Sigma_ww)\n",
    "\n",
    "K = 1000\n",
    "Pm = np.empty(K + 1)\n",
    "Pm[0] = P0\n",
    "\n",
    "for k in range(K): \n",
    "    Pp = A * Pm[k] * A + Sigma_vv\n",
    "    Pm[k + 1] = (1 - K_inf * H) * Pp * (1 - K_inf * H) + K_inf * Sigma_ww * K_inf\n",
    "\n",
    "for i in [1, 2, 10, 1000]:\n",
    "    print('At time k=%d, the steady-state variance of posterior estimation error is: %.4f. '%(i, Pm[i]))"
   ]
  }
 ],
 "metadata": {
  "kernelspec": {
   "display_name": "Python 3 (ipykernel)",
   "language": "python",
   "name": "python3"
  },
  "language_info": {
   "codemirror_mode": {
    "name": "ipython",
    "version": 3
   },
   "file_extension": ".py",
   "mimetype": "text/x-python",
   "name": "python",
   "nbconvert_exporter": "python",
   "pygments_lexer": "ipython3",
   "version": "3.9.10"
  }
 },
 "nbformat": 4,
 "nbformat_minor": 5
}
