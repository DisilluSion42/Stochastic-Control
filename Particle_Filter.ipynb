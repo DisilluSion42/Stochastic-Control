{
 "cells": [
  {
   "cell_type": "markdown",
   "id": "1670cab9",
   "metadata": {},
   "source": [
    "In this problem we investigate the randomness of the particle ﬁlter.\n",
    "Consider the following system:\n",
    "$$\n",
    "x(k)=x(k-1)^3+v(k-1) \\\\\n",
    "z(k)=x(k)^3+w(k)\n",
    "$$\n",
    "where $x(0)$,$\\{v(\\cdot)\\}$,$\\{w(\\cdot)\\}$ are independent, and each is drawn from a uniform distribution in the range $[-1,1]$. At $k=1$, you make the observation $z(1)=0.5$.\n",
    "\n",
    "We will implement a particle ﬁlter with $N_p$ particles, and use this to approximate the MMSE estimator for the distribution $f(x(1)|z(1))$ (by taking the average of the particles after the resampling step) to compute its estimate. For each of $N_p\\in\\{10,10^2,10^3\\}$ run the particle filter $10^3$ times, and record the ﬁnal estimate for each run (this should be diﬀerent, because each run is generated using diﬀerent random particles)."
   ]
  },
  {
   "cell_type": "markdown",
   "id": "002e7dff",
   "metadata": {},
   "source": [
    "Make a single graph, with three histograms on it overlaid, showing the distribution of the ﬁnal estimate."
   ]
  },
  {
   "cell_type": "code",
   "execution_count": 1,
   "id": "3782dc32",
   "metadata": {},
   "outputs": [
    {
     "data": {
      "image/png": "[encoded data removed]",
      "text/plain": [
       "<Figure size 720x432 with 1 Axes>"
      ]
     },
     "metadata": {
      "needs_background": "light"
     },
     "output_type": "display_data"
    }
   ],
   "source": [
    "import numpy as np\n",
    "import matplotlib.pyplot as plt\n",
    "\n",
    "Np = [10, 100, 1000]\n",
    "n = 1000\n",
    "\n",
    "MMSE = np.empty((len(Np), n))\n",
    "\n",
    "for i in range(len(Np)):\n",
    "    # Initialization\n",
    "    particles = np.random.uniform(-1, 1, (Np[i], n))\n",
    "    \n",
    "    # Prior Update\n",
    "    v = np.random.uniform(-1, 1, (Np[i], n))\n",
    "    particles = particles ** 3 + v\n",
    "\n",
    "    # Measurement Update\n",
    "    z = 1\n",
    "    fzx = (abs(z - particles ** 3) <= 1) / 2\n",
    "    alpha = 1 / (np.sum(fzx, axis = 0) + 1.e-300) # avoid boundary error\n",
    "    beta = alpha * fzx\n",
    "\n",
    "    # Resampling\n",
    "    r = np.random.uniform(0, 1, (Np[i], n))\n",
    "    cumsum = np.cumsum(beta, axis = 0)\n",
    "    cumsum[Np[i] - 1, :] = 1 # avoid boundary error\n",
    "    for j in range(n):\n",
    "        idx = np.searchsorted(cumsum[:, j], r[:, j])\n",
    "        particles[:, j] = particles[:, j][idx]\n",
    "        \n",
    "    # Store MMSE estimators\n",
    "    MMSE[i, :] = np.mean(particles, axis = 0)\n",
    "    \n",
    "plt.figure(figsize = (10, 6))\n",
    "for i in range(len(Np)):\n",
    "    plt.hist(MMSE[i, :], bins = 300, range = (-1, 1), density = True, label = r'$N_p$=%d'%(Np[i]), alpha = 1 - 0.2 * i)\n",
    "    \n",
    "plt.legend(loc = 'upper left', fontsize = 15)\n",
    "plt.show()"
   ]
  }
 ],
 "metadata": {
  "kernelspec": {
   "display_name": "Python 3 (ipykernel)",
   "language": "python",
   "name": "python3"
  },
  "language_info": {
   "codemirror_mode": {
    "name": "ipython",
    "version": 3
   },
   "file_extension": ".py",
   "mimetype": "text/x-python",
   "name": "python",
   "nbconvert_exporter": "python",
   "pygments_lexer": "ipython3",
   "version": "3.9.10"
  }
 },
 "nbformat": 4,
 "nbformat_minor": 5
}
