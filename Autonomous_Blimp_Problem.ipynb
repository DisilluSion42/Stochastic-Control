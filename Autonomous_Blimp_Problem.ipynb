{
 "cells": [
  {
   "cell_type": "markdown",
   "id": "4eb623cf",
   "metadata": {},
   "source": [
    "You are investigating various trade-oﬀs in the design of an autonomous blimp. The system dynamics are given as below, with the system state $x(k)\\in{\\mathbb{R}^2}$ comprising the height ($x_1$ in units of m) and vertical velocity ($x_2$ in units of m/s) of the blimp, driven by a random acceleration: \n",
    "$$\n",
    "x(k)=\\begin{bmatrix} x_1(k) \\\\ x_2(k) \\end{bmatrix}=\\begin{bmatrix} 1 & \\Delta t \\\\ 0 & 1 \\end{bmatrix}x(k-1)+v(k-1)\n",
    "$$  \n",
    "where $\\Delta t$ is the sampling time, and $v(k-1)$ is zero-mean white noise, with variance parametrized through the scalar $\\sigma _ a ^ 2$:  \n",
    "$$\n",
    "Var[v(k-1)]={\\sigma _ a ^ 2}\\begin{bmatrix} \\frac{1}{4}{\\Delta t^4} & \\frac{1}{2}{\\Delta t^3} \\\\ \\frac{1}{2}{\\Delta t^3} & \\Delta t^2 \\end{bmatrix}\n",
    "$$  \n",
    "The original system is equipped with a GPS sensor, so that:\n",
    "$$\n",
    "z_1(k)=x_1(k)+w_1(k)\n",
    "$$  \n",
    "where $w_1(k)$ is a zero-mean, white noise sequence with variance $Var[w_1(k)]=m_1^2$. We are given $\\Delta t=\\frac{1}{10}s$, $\\sigma_a=5m/s^2$, and $m_1=10m$.  \n",
    "\n",
    "The robot's mission relies on accurate knowledge of its position, which we will quantify with the metric $J_p:=\\sqrt{\\lim_{k \\rightarrow \\infty} Var[x_1(k)|z(1:k)]}$. "
   ]
  },
  {
   "cell_type": "markdown",
   "id": "d1bebd10",
   "metadata": {},
   "source": [
    "We first compute $J_p$ as a function of the usual Kalman ﬁlter matrices $A, \\Sigma_{vv}, H$ and $\\Sigma_{ww}$."
   ]
  },
  {
   "cell_type": "code",
   "execution_count": 1,
   "id": "d4682190",
   "metadata": {},
   "outputs": [
    {
     "data": {
      "text/latex": [
       "$J_p=3.085.$"
      ],
      "text/plain": [
       "<IPython.core.display.Latex object>"
      ]
     },
     "execution_count": 1,
     "metadata": {},
     "output_type": "execute_result"
    }
   ],
   "source": [
    "import numpy as np\n",
    "from scipy import linalg\n",
    "from IPython.display import Latex\n",
    "\n",
    "deltat = 1/10\n",
    "sigma_a = 5\n",
    "m1 = 10\n",
    "\n",
    "A = np.array([[1, deltat],\n",
    "              [0, 1]])\n",
    "H = np.array([[1, 0]])\n",
    "Sigma_vv = sigma_a ** 2 * np.array([[deltat ** 4 / 4, deltat ** 3 / 2],\n",
    "                                   [deltat ** 3 / 2, deltat ** 2]])\n",
    "Sigma_ww = np.array([[m1 ** 2]])\n",
    "\n",
    "P_inf = linalg.solve_discrete_are(A.T, H.T, Sigma_vv, Sigma_ww)\n",
    "Pm_inf = P_inf - P_inf @ H.T @ linalg.inv(H @ P_inf @ H.T + Sigma_ww) @ H @ P_inf\n",
    "Jp = np.sqrt(Pm_inf[0, 0])\n",
    "\n",
    "Latex(r'$J_p=%.3f.$'%(Jp))"
   ]
  },
  {
   "cell_type": "markdown",
   "id": "d5418a85",
   "metadata": {},
   "source": [
    "We are considering various ways to improve the system’s estimation performance, enumerated below. Each modiﬁcation is an independent modiﬁcation of the original system. For each of the following suggested modiﬁcations to the system, we compute the performance metric $J_p$."
   ]
  },
  {
   "cell_type": "markdown",
   "id": "9595f9b7",
   "metadata": {},
   "source": [
    "1) Replace the GPS sensor with that of brand A, which has $m_1=5m$ (the noise standard deviation is cut in half)."
   ]
  },
  {
   "cell_type": "code",
   "execution_count": 2,
   "id": "f78f2577",
   "metadata": {},
   "outputs": [
    {
     "data": {
      "text/latex": [
       "$J_p=1.816.$"
      ],
      "text/plain": [
       "<IPython.core.display.Latex object>"
      ]
     },
     "execution_count": 2,
     "metadata": {},
     "output_type": "execute_result"
    }
   ],
   "source": [
    "import numpy as np\n",
    "from scipy import linalg\n",
    "from IPython.display import Latex\n",
    "\n",
    "deltat = 1/10\n",
    "sigma_a = 5\n",
    "m1 = 5\n",
    "\n",
    "A = np.array([[1, deltat],\n",
    "              [0, 1]])\n",
    "H = np.array([[1, 0]])\n",
    "Sigma_vv = sigma_a ** 2 * np.array([[deltat ** 4 / 4, deltat ** 3 / 2],\n",
    "                                   [deltat ** 3 / 2, deltat ** 2]])\n",
    "Sigma_ww = np.array([[m1 ** 2]])\n",
    "\n",
    "P_inf = linalg.solve_discrete_are(A.T, H.T, Sigma_vv, Sigma_ww)\n",
    "Pm_inf = P_inf - P_inf @ H.T @ linalg.inv(H @ P_inf @ H.T + Sigma_ww) @ H @ P_inf\n",
    "Jp = np.sqrt(Pm_inf[0, 0])\n",
    "\n",
    "Latex(r'$J_p=%.3f.$'%(Jp))"
   ]
  },
  {
   "cell_type": "markdown",
   "id": "df7174df",
   "metadata": {},
   "source": [
    "2) Replace the GPS sensor with that of brand B, which has $\\Delta t=\\frac{1}{20}s$, and $m_1=10m$ (i.e. the sensor returns equally noisy measurements, but twice as frequently). "
   ]
  },
  {
   "cell_type": "code",
   "execution_count": 3,
   "id": "838e728a",
   "metadata": {},
   "outputs": [
    {
     "data": {
      "text/latex": [
       "$J_p=2.208.$"
      ],
      "text/plain": [
       "<IPython.core.display.Latex object>"
      ]
     },
     "execution_count": 3,
     "metadata": {},
     "output_type": "execute_result"
    }
   ],
   "source": [
    "import numpy as np\n",
    "from scipy import linalg\n",
    "from IPython.display import Latex\n",
    "\n",
    "deltat = 1/20\n",
    "sigma_a = 5\n",
    "m1 = 10\n",
    "\n",
    "A = np.array([[1, deltat],\n",
    "              [0, 1]])\n",
    "H = np.array([[1, 0]])\n",
    "Sigma_vv = sigma_a ** 2 * np.array([[deltat ** 4 / 4, deltat ** 3 / 2],\n",
    "                                   [deltat ** 3 / 2, deltat ** 2]])\n",
    "Sigma_ww = np.array([[m1 ** 2]])\n",
    "\n",
    "P_inf = linalg.solve_discrete_are(A.T, H.T, Sigma_vv, Sigma_ww)\n",
    "Pm_inf = P_inf - P_inf @ H.T @ linalg.inv(H @ P_inf @ H.T + Sigma_ww) @ H @ P_inf\n",
    "Jp = np.sqrt(Pm_inf[0, 0])\n",
    "\n",
    "Latex(r'$J_p=%.3f.$'%(Jp))"
   ]
  },
  {
   "cell_type": "markdown",
   "id": "d0daf46b",
   "metadata": {},
   "source": [
    "3) Retain the original GPS sensor, and add an airspeed sensor which gives the additional measurement $z_2(k)=x_2(k)+w_2(k)$, where $w_2(k)$ is a zero-mean, white noise sequence, independent of all quantities, and with $Var[w_2(k)]=m_2^2$ with $m_2=1m/s$. The sensors $z_1$ and $z_2$ return data at the same instants of time."
   ]
  },
  {
   "cell_type": "code",
   "execution_count": 4,
   "id": "e7ad2712",
   "metadata": {},
   "outputs": [
    {
     "data": {
      "text/latex": [
       "$J_p=0.995.$"
      ],
      "text/plain": [
       "<IPython.core.display.Latex object>"
      ]
     },
     "execution_count": 4,
     "metadata": {},
     "output_type": "execute_result"
    }
   ],
   "source": [
    "import numpy as np\n",
    "from scipy import linalg\n",
    "from IPython.display import Latex\n",
    "\n",
    "deltat = 1/10\n",
    "sigma_a = 5\n",
    "m1 = 10\n",
    "m2 = 1\n",
    "\n",
    "A = np.array([[1, deltat],\n",
    "              [0, 1]])\n",
    "H = np.array([[1, 0],\n",
    "              [0, 1]])\n",
    "Sigma_vv = sigma_a ** 2 * np.array([[deltat ** 4 / 4, deltat ** 3 / 2],\n",
    "                                   [deltat ** 3 / 2, deltat ** 2]])\n",
    "Sigma_ww = np.array([[m1 ** 2, 0],\n",
    "                     [0, m2 ** 2]])\n",
    "\n",
    "P_inf = linalg.solve_discrete_are(A.T, H.T, Sigma_vv, Sigma_ww)\n",
    "Pm_inf = P_inf - P_inf @ H.T @ linalg.inv(H @ P_inf @ H.T + Sigma_ww) @ H @ P_inf\n",
    "Jp = np.sqrt(Pm_inf[0, 0])\n",
    "\n",
    "Latex(r'$J_p=%.3f.$'%(Jp))"
   ]
  },
  {
   "cell_type": "markdown",
   "id": "4dd6d3a5",
   "metadata": {},
   "source": [
    "4) Retain the original GPS sensor, and add a second, independent barometric height sensor $z_2(k)=x_1(k)+w_2(k)$, where $w_2(k)$ is a zero-mean, white noise sequence, independent of all quantities, and with $Var[w_2(k)]=m_2^2$ with $m_2=10m$. The sensors $z_1$ and $z_2$ return data at the same instants of time."
   ]
  },
  {
   "cell_type": "code",
   "execution_count": 5,
   "id": "97fdcdb0",
   "metadata": {},
   "outputs": [
    {
     "data": {
      "text/latex": [
       "$J_p=2.368.$"
      ],
      "text/plain": [
       "<IPython.core.display.Latex object>"
      ]
     },
     "execution_count": 5,
     "metadata": {},
     "output_type": "execute_result"
    }
   ],
   "source": [
    "import numpy as np\n",
    "from scipy import linalg\n",
    "from IPython.display import Latex\n",
    "\n",
    "deltat = 1/10\n",
    "sigma_a = 5\n",
    "m1 = 10\n",
    "m2 = 10\n",
    "\n",
    "A = np.array([[1, deltat],\n",
    "              [0, 1]])\n",
    "H = np.array([[1, 0],\n",
    "              [1, 0]])\n",
    "Sigma_vv = sigma_a ** 2 * np.array([[deltat ** 4 / 4, deltat ** 3 / 2],\n",
    "                                   [deltat ** 3 / 2, deltat ** 2]])\n",
    "Sigma_ww = np.array([[m1 ** 2, 0],\n",
    "                     [0, m2 ** 2]])\n",
    "\n",
    "P_inf = linalg.solve_discrete_are(A.T, H.T, Sigma_vv, Sigma_ww)\n",
    "Pm_inf = P_inf - P_inf @ H.T @ linalg.inv(H @ P_inf @ H.T + Sigma_ww) @ H @ P_inf\n",
    "Jp = np.sqrt(Pm_inf[0, 0])\n",
    "\n",
    "Latex(r'$J_p=%.3f.$'%(Jp))"
   ]
  },
  {
   "cell_type": "markdown",
   "id": "c2d71520",
   "metadata": {},
   "source": [
    "5) Retain the original GPS sensor, and add a second identical GPS sensor from the same manufacturer, so that $z_2(k)=x_1(k)+w_2(k)$, where $w_2(k)=w_1(k)$. "
   ]
  },
  {
   "cell_type": "code",
   "execution_count": 6,
   "id": "d5506637",
   "metadata": {},
   "outputs": [
    {
     "data": {
      "text/latex": [
       "$J_p=3.085.$"
      ],
      "text/plain": [
       "<IPython.core.display.Latex object>"
      ]
     },
     "execution_count": 6,
     "metadata": {},
     "output_type": "execute_result"
    }
   ],
   "source": [
    "import numpy as np\n",
    "from scipy import linalg\n",
    "from IPython.display import Latex\n",
    "\n",
    "deltat = 1/10\n",
    "sigma_a = 5\n",
    "m1 = 10\n",
    "\n",
    "A = np.array([[1, deltat],\n",
    "              [0, 1]])\n",
    "H = np.array([[1, 0],\n",
    "              [1, 0]])\n",
    "Sigma_vv = sigma_a ** 2 * np.array([[deltat ** 4 / 4, deltat ** 3 / 2],\n",
    "                                   [deltat ** 3 / 2, deltat ** 2]])\n",
    "Sigma_ww = np.array([[m1 ** 2, m1 ** 2],\n",
    "                     [m1 ** 2, m1 ** 2 + 0.01]]) # to avoid singular matrix during computing inverse\n",
    "\n",
    "P_inf = linalg.solve_discrete_are(A.T, H.T, Sigma_vv, Sigma_ww)\n",
    "Pm_inf = P_inf - P_inf @ H.T @ linalg.inv(H @ P_inf @ H.T + Sigma_ww) @ H @ P_inf\n",
    "Jp = np.sqrt(Pm_inf[0, 0])\n",
    "\n",
    "Latex(r'$J_p=%.3f.$'%(Jp))"
   ]
  },
  {
   "cell_type": "markdown",
   "id": "019dfe84",
   "metadata": {},
   "source": [
    "6) Retain the original sensor, but modify the system design by making it more aerodynamic and thereby reducing the eﬀect of aerodynamic disturbances, so that $\\sigma_a=1m/s$. "
   ]
  },
  {
   "cell_type": "code",
   "execution_count": 7,
   "id": "38373e21",
   "metadata": {},
   "outputs": [
    {
     "data": {
      "text/latex": [
       "$J_p=2.091.$"
      ],
      "text/plain": [
       "<IPython.core.display.Latex object>"
      ]
     },
     "execution_count": 7,
     "metadata": {},
     "output_type": "execute_result"
    }
   ],
   "source": [
    "import numpy as np\n",
    "from scipy import linalg\n",
    "from IPython.display import Latex\n",
    "\n",
    "deltat = 1/10\n",
    "sigma_a = 1\n",
    "m1 = 10\n",
    "\n",
    "A = np.array([[1, deltat],\n",
    "              [0, 1]])\n",
    "H = np.array([[1, 0]])\n",
    "Sigma_vv = sigma_a ** 2 * np.array([[deltat ** 4 / 4, deltat ** 3 / 2],\n",
    "                                   [deltat ** 3 / 2, deltat ** 2]])\n",
    "Sigma_ww = np.array([[m1 ** 2]])\n",
    "\n",
    "P_inf = linalg.solve_discrete_are(A.T, H.T, Sigma_vv, Sigma_ww)\n",
    "Pm_inf = P_inf - P_inf @ H.T @ linalg.inv(H @ P_inf @ H.T + Sigma_ww) @ H @ P_inf\n",
    "Jp = np.sqrt(Pm_inf[0, 0])\n",
    "\n",
    "Latex(r'$J_p=%.3f.$'%(Jp))"
   ]
  }
 ],
 "metadata": {
  "kernelspec": {
   "display_name": "Python 3 (ipykernel)",
   "language": "python",
   "name": "python3"
  },
  "language_info": {
   "codemirror_mode": {
    "name": "ipython",
    "version": 3
   },
   "file_extension": ".py",
   "mimetype": "text/x-python",
   "name": "python",
   "nbconvert_exporter": "python",
   "pygments_lexer": "ipython3",
   "version": "3.9.10"
  }
 },
 "nbformat": 4,
 "nbformat_minor": 5
}
