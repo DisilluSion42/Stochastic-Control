{
 "cells": [
  {
   "cell_type": "markdown",
   "id": "e12fcbf9",
   "metadata": {},
   "source": [
    "Consider the following system: \n",
    "$$x(k)=Ax(k-1)+v(k-1) \\\\ \n",
    "z(k)=Hx(k)+w(k) \\\\ \n",
    "A=\\begin{bmatrix} 0.8 & 0.6 \\\\ -0.6 & 0.8 \\end{bmatrix}, H=\\begin{bmatrix} 1 & 0 \\end{bmatrix}, v(k)\\sim\\mathcal{N}(0,I), w(k)\\sim\\mathcal{N}(0,I), x(0)\\sim\\mathcal{N}\\left(0,\\begin{bmatrix} 3 & 0 \\\\ 0 & 1 \\end{bmatrix}\\right)$$  \n",
    "and $x(0), \\{v(\\cdot)\\}, \\{w(\\cdot)\\}$ are independent. \n",
    "Define the estimation error $e(k):=x(k)-\\hat{x}(k)$, where $\\hat{x}(k)$ is the Kalman filter estimate of the state $x(k)$. \n",
    "\n",
    "We want to implement a simulation of the system and a Kalman filter that produces and estimate $\\hat{x}(k)$. Execute this 10,000 times and plot a histogram of the resulting values for $e(10)$ (two histograms, one for each component of $e(10)$). "
   ]
  },
  {
   "cell_type": "code",
   "execution_count": 2,
   "id": "52e345d6",
   "metadata": {},
   "outputs": [
    {
     "data": {
      "image/png": "[encoded data removed]",
      "text/plain": [
       "<Figure size 720x360 with 1 Axes>"
      ]
     },
     "metadata": {
      "needs_background": "light"
     },
     "output_type": "display_data"
    }
   ],
   "source": [
    "import numpy as np\n",
    "import matplotlib.pyplot as plt\n",
    "\n",
    "# Problem Statement\n",
    "A = np.array([[0.8, 0.6], \n",
    "              [-0.6, 0.8]])\n",
    "H = np.array([[1, 0]])\n",
    "Sigma_vv = np.eye(2)\n",
    "Sigma_ww = np.eye(1)\n",
    "P0 = np.array([[3, 0],\n",
    "                [0, 1]])\n",
    "mu0 = np.zeros((2, 1))\n",
    "N = 10000\n",
    "K = 10\n",
    "n = 2\n",
    "m = 1\n",
    "\n",
    "# Simulation\n",
    "x0 = np.random.normal(loc = np.zeros(n), scale = np.sqrt(np.diag(P0)), size = (N, n))\n",
    "x = np.empty((K + 1, N, n, 1))\n",
    "x[0] = x0.reshape(N, n, 1)\n",
    "for k in range(K):\n",
    "    v = np.random.normal(loc = np.zeros(n), scale = np.sqrt(np.diag(Sigma_vv)), size = (N, n))\n",
    "    x[k + 1] = A @ x[k] + v.reshape(N, n, 1)\n",
    "    \n",
    "# Kalman Filter\n",
    "Pm = np.empty((K + 1, n, n))\n",
    "xm = np.empty((K + 1, N, n, 1))\n",
    "e = np.empty((K + 1, N, n, 1))\n",
    "\n",
    "Pm[0] = P0\n",
    "xm[0] = np.expand_dims(mu0, axis = 0).repeat(N, axis = 0)\n",
    "e[0] = x[0] - xm[0]\n",
    "\n",
    "for k in range(K): \n",
    "    xp = A @ xm[k]\n",
    "    Pp = A @ Pm[k] @ A.T + Sigma_vv\n",
    "    w = np.random.normal(loc = np.zeros(m), scale = np.sqrt(np.diag(Sigma_ww)), size = (N, m))\n",
    "    z = H @ x[k + 1] + w.reshape(N, m, 1)\n",
    "    \n",
    "    xm[k + 1] = xp + Pp @ H.T @ np.linalg.inv(H @ Pp @ H.T + Sigma_ww) @ (z - H @ xp)\n",
    "    Pm[k + 1] = Pp - Pp @ H.T @ np.linalg.inv(H @ Pp @ H.T + Sigma_ww) @ H @ Pp\n",
    "    e[k + 1] = x[k + 1] - xm[k + 1]\n",
    "    \n",
    "# Plot histograms of each components in e(10)\n",
    "plt.figure(figsize = (10, 5))\n",
    "plt.hist(e[10, :, 0], bins = 100, density = True, label = r'$e(10)_1$')\n",
    "plt.hist(e[10, :, 1], bins = 100, alpha = 0.5, density = True, label = r'$e(10)_2$')\n",
    "plt.legend(fontsize = 20)\n",
    "plt.ylabel('Density', fontsize = 20)\n",
    "plt.show()"
   ]
  }
 ],
 "metadata": {
  "kernelspec": {
   "display_name": "Python 3 (ipykernel)",
   "language": "python",
   "name": "python3"
  },
  "language_info": {
   "codemirror_mode": {
    "name": "ipython",
    "version": 3
   },
   "file_extension": ".py",
   "mimetype": "text/x-python",
   "name": "python",
   "nbconvert_exporter": "python",
   "pygments_lexer": "ipython3",
   "version": "3.9.10"
  }
 },
 "nbformat": 4,
 "nbformat_minor": 5
}
